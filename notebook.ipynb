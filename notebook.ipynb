{
 "cells": [
  {
   "cell_type": "markdown",
   "metadata": {},
   "source": [
    "Imports statements:"
   ]
  },
  {
   "cell_type": "code",
   "execution_count": 3,
   "metadata": {},
   "outputs": [],
   "source": [
    "import pandas as pd\n",
    "import numpy as np\n",
    "import datetime as dt\n",
    "import matplotlib.pyplot as plt\n",
    "\n",
    "\n",
    "from sklearn.model_selection import train_test_split\n",
    "\n",
    "from sklearn.linear_model import LinearRegression\n",
    "from sklearn.neighbors import KNeighborsRegressor\n",
    "from sklearn.tree import DecisionTreeRegressor\n",
    "from sklearn.svm import SVR\n",
    "from sklearn.ensemble import RandomForestRegressor\n",
    "from sklearn.ensemble import GradientBoostingRegressor\n",
    "\n",
    "from sklearn.metrics import confusion_matrix\n",
    "from sklearn.metrics import classification_report\n",
    "from sklearn.metrics import accuracy_score\n",
    "from sklearn.metrics import r2_score, mean_squared_error\n",
    "\n",
    "from sklearn.preprocessing import LabelEncoder\n",
    "lab = LabelEncoder()"
   ]
  },
  {
   "cell_type": "code",
   "execution_count": 4,
   "metadata": {},
   "outputs": [
    {
     "data": {
      "text/plain": [
       "(19237, 18)"
      ]
     },
     "execution_count": 4,
     "metadata": {},
     "output_type": "execute_result"
    }
   ],
   "source": [
    "file_path = \"car_price_prediction.csv\"\n",
    "data =pd.read_csv(file_path)\n",
    "data.head()\n",
    "data.shape"
   ]
  },
  {
   "cell_type": "markdown",
   "metadata": {},
   "source": [
    "Checking the unique values for each column"
   ]
  },
  {
   "cell_type": "code",
   "execution_count": 5,
   "metadata": {},
   "outputs": [
    {
     "name": "stdout",
     "output_type": "stream",
     "text": [
      "Category in ID is :\n",
      " [45654403 44731507 45774419 ... 45804997 45793526 45813273]\n",
      "\n",
      "\\\\\\\\\\\\\\\\\\\\\\\\\\\\\\\\\\\\\\\\\\\\\\\\\\\\\\\\\\\\\\\\\\\\\\\\\\\\\\\\\\\\\\\\\\\\\\\\\\\\\n",
      "Category in Price is :\n",
      " [13328 16621  8467 ... 56814 63886 22075]\n",
      "\n",
      "\\\\\\\\\\\\\\\\\\\\\\\\\\\\\\\\\\\\\\\\\\\\\\\\\\\\\\\\\\\\\\\\\\\\\\\\\\\\\\\\\\\\\\\\\\\\\\\\\\\\\n",
      "Category in Levy is :\n",
      " ['1399' '1018' '-' '862' '446' '891' '761' '751' '394' '1053' '1055'\n",
      " '1079' '810' '2386' '1850' '531' '586' '1249' '2455' '583' '1537' '1288'\n",
      " '915' '1750' '707' '1077' '1486' '1091' '650' '382' '1436' '1194' '503'\n",
      " '1017' '1104' '639' '629' '919' '781' '530' '640' '765' '777' '779' '934'\n",
      " '769' '645' '1185' '1324' '830' '1187' '1111' '760' '642' '1604' '1095'\n",
      " '966' '473' '1138' '1811' '988' '917' '1156' '687' '11714' '836' '1347'\n",
      " '2866' '1646' '259' '609' '697' '585' '475' '690' '308' '1823' '1361'\n",
      " '1273' '924' '584' '2078' '831' '1172' '893' '1872' '1885' '1266' '447'\n",
      " '2148' '1730' '730' '289' '502' '333' '1325' '247' '879' '1342' '1327'\n",
      " '1598' '1514' '1058' '738' '1935' '481' '1522' '1282' '456' '880' '900'\n",
      " '798' '1277' '442' '1051' '790' '1292' '1047' '528' '1211' '1493' '1793'\n",
      " '574' '930' '1998' '271' '706' '1481' '1677' '1661' '1286' '1408' '1090'\n",
      " '595' '1451' '1267' '993' '1714' '878' '641' '749' '1511' '603' '353'\n",
      " '877' '1236' '1141' '397' '784' '1024' '1357' '1301' '770' '922' '1438'\n",
      " '753' '607' '1363' '638' '490' '431' '565' '517' '833' '489' '1760' '986'\n",
      " '1841' '1620' '1360' '474' '1099' '978' '1624' '1946' '1268' '1307' '696'\n",
      " '649' '666' '2151' '551' '800' '971' '1323' '2377' '1845' '1083' '694'\n",
      " '463' '419' '345' '1515' '1505' '2056' '1203' '729' '460' '1356' '876'\n",
      " '911' '1190' '780' '448' '2410' '1848' '1148' '834' '1275' '1028' '1197'\n",
      " '724' '890' '1705' '505' '789' '2959' '518' '461' '1719' '2858' '3156'\n",
      " '2225' '2177' '1968' '1888' '1308' '2736' '1103' '557' '2195' '843'\n",
      " '1664' '723' '4508' '562' '501' '2018' '1076' '1202' '3301' '691' '1440'\n",
      " '1869' '1178' '418' '1820' '1413' '488' '1304' '363' '2108' '521' '1659'\n",
      " '87' '1411' '1528' '3292' '7058' '1578' '627' '874' '1996' '1488' '5679'\n",
      " '1234' '5603' '400' '889' '3268' '875' '949' '2265' '441' '742' '425'\n",
      " '2476' '2971' '614' '1816' '1375' '1405' '2297' '1062' '1113' '420'\n",
      " '2469' '658' '1951' '2670' '2578' '1995' '1032' '994' '1011' '2421'\n",
      " '1296' '155' '494' '426' '1086' '961' '2236' '1829' '764' '1834' '1054'\n",
      " '617' '1529' '2266' '637' '626' '1832' '1016' '2002' '1756' '746' '1285'\n",
      " '2690' '1118' '5332' '980' '1807' '970' '1228' '1195' '1132' '1768'\n",
      " '1384' '1080' '7063' '1817' '1452' '1975' '1368' '702' '1974' '1781'\n",
      " '1036' '944' '663' '364' '1539' '1345' '1680' '2209' '741' '1575' '695'\n",
      " '1317' '294' '1525' '424' '997' '1473' '1552' '2819' '2188' '1668' '3057'\n",
      " '799' '1502' '2606' '552' '1694' '1759' '1110' '399' '1470' '1174' '5877'\n",
      " '1474' '1688' '526' '686' '5908' '1107' '2070' '1468' '1246' '1685' '556'\n",
      " '1533' '1917' '1346' '732' '692' '579' '421' '362' '3505' '1855' '2711'\n",
      " '1586' '3739' '681' '1708' '2278' '1701' '722' '1482' '928' '827' '832'\n",
      " '527' '604' '173' '1341' '3329' '1553' '859' '167' '916' '828' '2082'\n",
      " '1176' '1108' '975' '3008' '1516' '2269' '1699' '2073' '1031' '1503'\n",
      " '2364' '1030' '1442' '5666' '2715' '1437' '2067' '1426' '2908' '1279'\n",
      " '866' '4283' '279' '2658' '3015' '2004' '1391' '4736' '748' '1466' '644'\n",
      " '683' '2705' '1297' '731' '1252' '2216' '3141' '3273' '1518' '1723'\n",
      " '1588' '972' '682' '1094' '668' '175' '967' '402' '3894' '1960' '1599'\n",
      " '2000' '2084' '1621' '714' '1109' '3989' '873' '1572' '1163' '1991'\n",
      " '1716' '1673' '2562' '2874' '965' '462' '605' '1948' '1736' '3518' '2054'\n",
      " '2467' '1681' '1272' '1205' '750' '2156' '2566' '115' '524' '3184' '676'\n",
      " '1678' '612' '328' '955' '1441' '1675' '3965' '2909' '623' '822' '867'\n",
      " '3025' '1993' '792' '636' '4057' '3743' '2337' '2570' '2418' '2472'\n",
      " '3910' '1662' '2123' '2628' '3208' '2080' '3699' '2913' '864' '2505'\n",
      " '870' '7536' '1924' '1671' '1064' '1836' '1866' '4741' '841' '1369'\n",
      " '5681' '3112' '1366' '2223' '1198' '1039' '3811' '3571' '1387' '1171'\n",
      " '1365' '1531' '1590' '11706' '2308' '4860' '1641' '1045' '1901']\n",
      "\n",
      "\\\\\\\\\\\\\\\\\\\\\\\\\\\\\\\\\\\\\\\\\\\\\\\\\\\\\\\\\\\\\\\\\\\\\\\\\\\\\\\\\\\\\\\\\\\\\\\\\\\\\n",
      "Category in Manufacturer is :\n",
      " ['LEXUS' 'CHEVROLET' 'HONDA' 'FORD' 'HYUNDAI' 'TOYOTA' 'MERCEDES-BENZ'\n",
      " 'OPEL' 'PORSCHE' 'BMW' 'JEEP' 'VOLKSWAGEN' 'AUDI' 'RENAULT' 'NISSAN'\n",
      " 'SUBARU' 'DAEWOO' 'KIA' 'MITSUBISHI' 'SSANGYONG' 'MAZDA' 'GMC' 'FIAT'\n",
      " 'INFINITI' 'ALFA ROMEO' 'SUZUKI' 'ACURA' 'LINCOLN' 'VAZ' 'GAZ' 'CITROEN'\n",
      " 'LAND ROVER' 'MINI' 'DODGE' 'CHRYSLER' 'JAGUAR' 'ISUZU' 'SKODA'\n",
      " 'DAIHATSU' 'BUICK' 'TESLA' 'CADILLAC' 'PEUGEOT' 'BENTLEY' 'VOLVO' 'სხვა'\n",
      " 'HAVAL' 'HUMMER' 'SCION' 'UAZ' 'MERCURY' 'ZAZ' 'ROVER' 'SEAT' 'LANCIA'\n",
      " 'MOSKVICH' 'MASERATI' 'FERRARI' 'SAAB' 'LAMBORGHINI' 'ROLLS-ROYCE'\n",
      " 'PONTIAC' 'SATURN' 'ASTON MARTIN' 'GREATWALL']\n",
      "\n",
      "\\\\\\\\\\\\\\\\\\\\\\\\\\\\\\\\\\\\\\\\\\\\\\\\\\\\\\\\\\\\\\\\\\\\\\\\\\\\\\\\\\\\\\\\\\\\\\\\\\\\\n",
      "Category in Model is :\n",
      " ['RX 450' 'Equinox' 'FIT' ... 'E 230 124' 'RX 450 F SPORT' 'Prius C aqua']\n",
      "\n",
      "\\\\\\\\\\\\\\\\\\\\\\\\\\\\\\\\\\\\\\\\\\\\\\\\\\\\\\\\\\\\\\\\\\\\\\\\\\\\\\\\\\\\\\\\\\\\\\\\\\\\\n",
      "Category in Prod. year is :\n",
      " [2010 2011 2006 2014 2016 2013 2007 1999 1997 2018 2008 2012 2017 2001\n",
      " 1995 2009 2000 2019 2015 2004 1998 1990 2005 2003 1985 1996 2002 1993\n",
      " 1992 1988 1977 1989 1994 2020 1984 1986 1991 1983 1953 1964 1974 1987\n",
      " 1943 1978 1965 1976 1957 1980 1939 1968 1947 1982 1981 1973]\n",
      "\n",
      "\\\\\\\\\\\\\\\\\\\\\\\\\\\\\\\\\\\\\\\\\\\\\\\\\\\\\\\\\\\\\\\\\\\\\\\\\\\\\\\\\\\\\\\\\\\\\\\\\\\\\n",
      "Category in Category is :\n",
      " ['Jeep' 'Hatchback' 'Sedan' 'Microbus' 'Goods wagon' 'Universal' 'Coupe'\n",
      " 'Minivan' 'Cabriolet' 'Limousine' 'Pickup']\n",
      "\n",
      "\\\\\\\\\\\\\\\\\\\\\\\\\\\\\\\\\\\\\\\\\\\\\\\\\\\\\\\\\\\\\\\\\\\\\\\\\\\\\\\\\\\\\\\\\\\\\\\\\\\\\n",
      "Category in Leather interior is :\n",
      " ['Yes' 'No']\n",
      "\n",
      "\\\\\\\\\\\\\\\\\\\\\\\\\\\\\\\\\\\\\\\\\\\\\\\\\\\\\\\\\\\\\\\\\\\\\\\\\\\\\\\\\\\\\\\\\\\\\\\\\\\\\n",
      "Category in Fuel type is :\n",
      " ['Hybrid' 'Petrol' 'Diesel' 'CNG' 'Plug-in Hybrid' 'LPG' 'Hydrogen']\n",
      "\n",
      "\\\\\\\\\\\\\\\\\\\\\\\\\\\\\\\\\\\\\\\\\\\\\\\\\\\\\\\\\\\\\\\\\\\\\\\\\\\\\\\\\\\\\\\\\\\\\\\\\\\\\n",
      "Category in Engine volume is :\n",
      " ['3.5' '3' '1.3' '2.5' '2' '1.8' '2.4' '4' '1.6' '3.3' '2.0 Turbo'\n",
      " '2.2 Turbo' '4.7' '1.5' '4.4' '3.0 Turbo' '1.4 Turbo' '3.6' '2.3'\n",
      " '1.5 Turbo' '1.6 Turbo' '2.2' '2.3 Turbo' '1.4' '5.5' '2.8 Turbo' '3.2'\n",
      " '3.8' '4.6' '1.2' '5' '1.7' '2.9' '0.5' '1.8 Turbo' '2.4 Turbo'\n",
      " '3.5 Turbo' '1.9' '2.7' '4.8' '5.3' '0.4' '2.8' '3.2 Turbo' '1.1' '2.1'\n",
      " '0.7' '5.4' '1.3 Turbo' '3.7' '1' '2.5 Turbo' '2.6' '1.9 Turbo'\n",
      " '4.4 Turbo' '4.7 Turbo' '0.8' '0.2 Turbo' '5.7' '4.8 Turbo' '4.6 Turbo'\n",
      " '6.7' '6.2' '1.2 Turbo' '3.4' '1.7 Turbo' '6.3 Turbo' '2.7 Turbo' '4.3'\n",
      " '4.2' '2.9 Turbo' '0' '4.0 Turbo' '20' '3.6 Turbo' '0.3' '3.7 Turbo'\n",
      " '5.9' '5.5 Turbo' '0.2' '2.1 Turbo' '5.6' '6' '0.7 Turbo' '0.6 Turbo'\n",
      " '6.8' '4.5' '0.6' '7.3' '0.1' '1.0 Turbo' '6.3' '4.5 Turbo' '0.8 Turbo'\n",
      " '4.2 Turbo' '3.1' '5.0 Turbo' '6.4' '3.9' '5.7 Turbo' '0.9' '0.4 Turbo'\n",
      " '5.4 Turbo' '0.3 Turbo' '5.2' '5.8' '1.1 Turbo']\n",
      "\n",
      "\\\\\\\\\\\\\\\\\\\\\\\\\\\\\\\\\\\\\\\\\\\\\\\\\\\\\\\\\\\\\\\\\\\\\\\\\\\\\\\\\\\\\\\\\\\\\\\\\\\\\n",
      "Category in Mileage is :\n",
      " ['186005 km' '192000 km' '200000 km' ... '140607 km' '307325 km'\n",
      " '186923 km']\n",
      "\n",
      "\\\\\\\\\\\\\\\\\\\\\\\\\\\\\\\\\\\\\\\\\\\\\\\\\\\\\\\\\\\\\\\\\\\\\\\\\\\\\\\\\\\\\\\\\\\\\\\\\\\\\n",
      "Category in Cylinders is :\n",
      " [ 6.  4.  8.  1. 12.  3.  2. 16.  5.  7.  9. 10. 14.]\n",
      "\n",
      "\\\\\\\\\\\\\\\\\\\\\\\\\\\\\\\\\\\\\\\\\\\\\\\\\\\\\\\\\\\\\\\\\\\\\\\\\\\\\\\\\\\\\\\\\\\\\\\\\\\\\n",
      "Category in Gear box type is :\n",
      " ['Automatic' 'Tiptronic' 'Variator' 'Manual']\n",
      "\n",
      "\\\\\\\\\\\\\\\\\\\\\\\\\\\\\\\\\\\\\\\\\\\\\\\\\\\\\\\\\\\\\\\\\\\\\\\\\\\\\\\\\\\\\\\\\\\\\\\\\\\\\n",
      "Category in Drive wheels is :\n",
      " ['4x4' 'Front' 'Rear']\n",
      "\n",
      "\\\\\\\\\\\\\\\\\\\\\\\\\\\\\\\\\\\\\\\\\\\\\\\\\\\\\\\\\\\\\\\\\\\\\\\\\\\\\\\\\\\\\\\\\\\\\\\\\\\\\n",
      "Category in Doors is :\n",
      " ['04-May' '02-Mar' '>5']\n",
      "\n",
      "\\\\\\\\\\\\\\\\\\\\\\\\\\\\\\\\\\\\\\\\\\\\\\\\\\\\\\\\\\\\\\\\\\\\\\\\\\\\\\\\\\\\\\\\\\\\\\\\\\\\\n",
      "Category in Wheel is :\n",
      " ['Left wheel' 'Right-hand drive']\n",
      "\n",
      "\\\\\\\\\\\\\\\\\\\\\\\\\\\\\\\\\\\\\\\\\\\\\\\\\\\\\\\\\\\\\\\\\\\\\\\\\\\\\\\\\\\\\\\\\\\\\\\\\\\\\n",
      "Category in Color is :\n",
      " ['Silver' 'Black' 'White' 'Grey' 'Blue' 'Green' 'Red' 'Sky blue' 'Orange'\n",
      " 'Yellow' 'Brown' 'Golden' 'Beige' 'Carnelian red' 'Purple' 'Pink']\n",
      "\n",
      "\\\\\\\\\\\\\\\\\\\\\\\\\\\\\\\\\\\\\\\\\\\\\\\\\\\\\\\\\\\\\\\\\\\\\\\\\\\\\\\\\\\\\\\\\\\\\\\\\\\\\n",
      "Category in Airbags is :\n",
      " [12  8  2  0  4  6 10  3  1 16  5  7  9 11 14 15 13]\n",
      "\n",
      "\\\\\\\\\\\\\\\\\\\\\\\\\\\\\\\\\\\\\\\\\\\\\\\\\\\\\\\\\\\\\\\\\\\\\\\\\\\\\\\\\\\\\\\\\\\\\\\\\\\\\n"
     ]
    }
   ],
   "source": [
    "for col in data.columns:\n",
    "    print(f'Category in {col} is :\\n {data[col].unique()}\\n')\n",
    "    print('\\\\'*50)\n"
   ]
  },
  {
   "cell_type": "markdown",
   "metadata": {},
   "source": [
    "## Data Pre-processing"
   ]
  },
  {
   "cell_type": "markdown",
   "metadata": {},
   "source": [
    "Dropping the ID and Doors columns which will not provide any information for our model"
   ]
  },
  {
   "cell_type": "code",
   "execution_count": 6,
   "metadata": {},
   "outputs": [],
   "source": [
    "data=data.drop(['ID','Doors'],axis=1)"
   ]
  },
  {
   "cell_type": "markdown",
   "metadata": {},
   "source": [
    "Levy we need to replacing '-' with 0, to convert the type of this column to float\n"
   ]
  },
  {
   "cell_type": "code",
   "execution_count": 7,
   "metadata": {},
   "outputs": [],
   "source": [
    "# Replacing '-' with 0\n",
    "data['Levy']=data['Levy'].replace('-','0')\n",
    "\n",
    "# Converting Levy type to float\n",
    "data['Levy'] = data['Levy'].astype('float64')"
   ]
  },
  {
   "cell_type": "markdown",
   "metadata": {},
   "source": [
    "Prod. year column is not useful, so we will drop or replace it with Age column"
   ]
  },
  {
   "cell_type": "code",
   "execution_count": 8,
   "metadata": {},
   "outputs": [],
   "source": [
    "dtime = dt.datetime.now()\n",
    "data['Age']=dtime.year - data['Prod. year']\n",
    "data = data.drop('Prod. year',axis=1)"
   ]
  },
  {
   "cell_type": "markdown",
   "metadata": {},
   "source": [
    "Mileage we need to strip 'km' in them, and convert the type of this column to integer"
   ]
  },
  {
   "cell_type": "code",
   "execution_count": 9,
   "metadata": {},
   "outputs": [],
   "source": [
    "# Replacing 'Km' with ''  \n",
    "data['Mileage'] =data['Mileage'].str.replace('km',\"\")\n",
    "\n",
    "# Converting Mileage type to int64\n",
    "data.Mileage = data.Mileage.astype('Int64')"
   ]
  },
  {
   "cell_type": "markdown",
   "metadata": {},
   "source": [
    "Engine volume we need to strip the 'turbo' word in them, and convert it's type to float"
   ]
  },
  {
   "cell_type": "markdown",
   "metadata": {},
   "source": []
  },
  {
   "cell_type": "code",
   "execution_count": 10,
   "metadata": {},
   "outputs": [],
   "source": [
    "# Replacing 'Turbo' with '' \n",
    "data['Engine volume'] = data['Engine volume'].str.replace('Turbo','')\n",
    "\n",
    "# Converting Levy type to float\n",
    "data['Engine volume'] = data['Engine volume'].astype('float64')"
   ]
  },
  {
   "cell_type": "markdown",
   "metadata": {},
   "source": [
    "## Transform Data\n",
    "Convert all object columns to numerical by labelencoder (Because ML Model don't understand object columns)"
   ]
  },
  {
   "cell_type": "markdown",
   "metadata": {},
   "source": []
  },
  {
   "cell_type": "code",
   "execution_count": 11,
   "metadata": {},
   "outputs": [],
   "source": [
    "obdata = data.select_dtypes(include=object)\n",
    "numdata = data.select_dtypes(exclude=object)\n",
    "\n",
    "for i in range(0,obdata.shape[1]):\n",
    "    obdata.iloc[:,i] = lab.fit_transform(obdata.iloc[:,i])  \n",
    "\n",
    "data = pd.concat([obdata,numdata],axis=1)"
   ]
  },
  {
   "cell_type": "markdown",
   "metadata": {},
   "source": [
    "## Model\n",
    "price is the target variable"
   ]
  },
  {
   "cell_type": "code",
   "execution_count": 12,
   "metadata": {},
   "outputs": [],
   "source": [
    "x= data.drop('Price',axis=1)\n",
    "y= data['Price']"
   ]
  },
  {
   "cell_type": "code",
   "execution_count": null,
   "metadata": {},
   "outputs": [],
   "source": [
    "x_train, x_test, y_train, y_test = train_test_split(x,y,test_size=0.25,random_state=5)"
   ]
  }
 ],
 "metadata": {
  "kernelspec": {
   "display_name": "cs122",
   "language": "python",
   "name": "cs122"
  },
  "language_info": {
   "codemirror_mode": {
    "name": "ipython",
    "version": 3
   },
   "file_extension": ".py",
   "mimetype": "text/x-python",
   "name": "python",
   "nbconvert_exporter": "python",
   "pygments_lexer": "ipython3",
   "version": "3.10.12"
  }
 },
 "nbformat": 4,
 "nbformat_minor": 2
}
